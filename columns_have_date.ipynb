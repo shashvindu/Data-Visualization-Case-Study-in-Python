{
  "nbformat": 4,
  "nbformat_minor": 0,
  "metadata": {
    "colab": {
      "name": "columns_have_date.ipynb",
      "provenance": [],
      "authorship_tag": "ABX9TyNSnN3RwBGmI/iISvT3Sk/a",
      "include_colab_link": true
    },
    "kernelspec": {
      "name": "python3",
      "display_name": "Python 3"
    }
  },
  "cells": [
    {
      "cell_type": "markdown",
      "metadata": {
        "id": "view-in-github",
        "colab_type": "text"
      },
      "source": [
        "<a href=\"https://colab.research.google.com/github/shashvindu/Data-Visualization-Case-Study-in-Python/blob/master/columns_have_date.ipynb\" target=\"_parent\"><img src=\"https://colab.research.google.com/assets/colab-badge.svg\" alt=\"Open In Colab\"/></a>"
      ]
    },
    {
      "cell_type": "markdown",
      "metadata": {
        "id": "vTfnEXuoN8j7",
        "colab_type": "text"
      },
      "source": [
        "1) Write a function in python that inputs a dataframe and identify which columns have date in them. Using these date columns make new columns which are difference between these columns taking 2 at a time. (for instance if there is date1, date2, date3 columns, output should be like date1-date2, date2-date3, date1-date3). For this problem only, print out data in the colab. \n",
        "Thing to consider\n",
        "•\tDate column might have some invalid entries in them \n",
        "•\tDate can be of different format throughout the column\n",
        "•\tCode should be efficient and fast\n",
        "•\tCode should be well commented and easy to interpret\n",
        "•\tUse google Colab\n",
        "•\tCode should be robust enough to run on any dataset\n",
        "•\tMake a dummy dataset by yourself.\n"
      ]
    },
    {
      "cell_type": "code",
      "metadata": {
        "id": "IPbQvRqNMm75",
        "colab_type": "code",
        "colab": {}
      },
      "source": [
        "#import lb\n",
        "import pandas as pd\n",
        "import numpy as np\n",
        "from datetime import datetime"
      ],
      "execution_count": 26,
      "outputs": []
    },
    {
      "cell_type": "code",
      "metadata": {
        "id": "sYSvFeHpPk5_",
        "colab_type": "code",
        "colab": {}
      },
      "source": [
        "#data \n",
        "df = pd.DataFrame({\n",
        "    'd1':['15/08/2020','15/07/2020','10/05/2020','abc',np.nan],\n",
        "    'd2': ['2020/10/10','2020/1/1','2020/2/2','2020/10/15','2020/10/10'],\n",
        "    'd3':['1 January 2020','15 June 2019','3 July 2018','31 December 2016','21 February 2020'],\n",
        "    'd4':['12/25/2020','11/25/2020','2020/2/20','3/25/2020','10/25/2020'],   \n",
        "    'd6':[1,2,300,400,5],\n",
        "    'd7':['a','b','c','e','f'],\n",
        "    'd8':['12/25/2020','11/25/2020','5/25/2020','3/25/2020','31 December 2016']\n",
        "    \n",
        "})\n"
      ],
      "execution_count": 27,
      "outputs": []
    },
    {
      "cell_type": "code",
      "metadata": {
        "id": "OC0xv2_nPlL5",
        "colab_type": "code",
        "colab": {
          "base_uri": "https://localhost:8080/",
          "height": 195
        },
        "outputId": "534ede99-e948-4743-8d42-7fd3d2b481ce"
      },
      "source": [
        "df"
      ],
      "execution_count": 28,
      "outputs": [
        {
          "output_type": "execute_result",
          "data": {
            "text/html": [
              "<div>\n",
              "<style scoped>\n",
              "    .dataframe tbody tr th:only-of-type {\n",
              "        vertical-align: middle;\n",
              "    }\n",
              "\n",
              "    .dataframe tbody tr th {\n",
              "        vertical-align: top;\n",
              "    }\n",
              "\n",
              "    .dataframe thead th {\n",
              "        text-align: right;\n",
              "    }\n",
              "</style>\n",
              "<table border=\"1\" class=\"dataframe\">\n",
              "  <thead>\n",
              "    <tr style=\"text-align: right;\">\n",
              "      <th></th>\n",
              "      <th>d1</th>\n",
              "      <th>d2</th>\n",
              "      <th>d3</th>\n",
              "      <th>d4</th>\n",
              "      <th>d6</th>\n",
              "      <th>d7</th>\n",
              "      <th>d8</th>\n",
              "    </tr>\n",
              "  </thead>\n",
              "  <tbody>\n",
              "    <tr>\n",
              "      <th>0</th>\n",
              "      <td>15/08/2020</td>\n",
              "      <td>2020/10/10</td>\n",
              "      <td>1 January 2020</td>\n",
              "      <td>12/25/2020</td>\n",
              "      <td>1</td>\n",
              "      <td>a</td>\n",
              "      <td>12/25/2020</td>\n",
              "    </tr>\n",
              "    <tr>\n",
              "      <th>1</th>\n",
              "      <td>15/07/2020</td>\n",
              "      <td>2020/1/1</td>\n",
              "      <td>15 June 2019</td>\n",
              "      <td>11/25/2020</td>\n",
              "      <td>2</td>\n",
              "      <td>b</td>\n",
              "      <td>11/25/2020</td>\n",
              "    </tr>\n",
              "    <tr>\n",
              "      <th>2</th>\n",
              "      <td>10/05/2020</td>\n",
              "      <td>2020/2/2</td>\n",
              "      <td>3 July 2018</td>\n",
              "      <td>2020/2/20</td>\n",
              "      <td>300</td>\n",
              "      <td>c</td>\n",
              "      <td>5/25/2020</td>\n",
              "    </tr>\n",
              "    <tr>\n",
              "      <th>3</th>\n",
              "      <td>abc</td>\n",
              "      <td>2020/10/15</td>\n",
              "      <td>31 December 2016</td>\n",
              "      <td>3/25/2020</td>\n",
              "      <td>400</td>\n",
              "      <td>e</td>\n",
              "      <td>3/25/2020</td>\n",
              "    </tr>\n",
              "    <tr>\n",
              "      <th>4</th>\n",
              "      <td>NaN</td>\n",
              "      <td>2020/10/10</td>\n",
              "      <td>21 February 2020</td>\n",
              "      <td>10/25/2020</td>\n",
              "      <td>5</td>\n",
              "      <td>f</td>\n",
              "      <td>31 December 2016</td>\n",
              "    </tr>\n",
              "  </tbody>\n",
              "</table>\n",
              "</div>"
            ],
            "text/plain": [
              "           d1          d2                d3  ...   d6  d7                d8\n",
              "0  15/08/2020  2020/10/10    1 January 2020  ...    1   a        12/25/2020\n",
              "1  15/07/2020    2020/1/1      15 June 2019  ...    2   b        11/25/2020\n",
              "2  10/05/2020    2020/2/2       3 July 2018  ...  300   c         5/25/2020\n",
              "3         abc  2020/10/15  31 December 2016  ...  400   e         3/25/2020\n",
              "4         NaN  2020/10/10  21 February 2020  ...    5   f  31 December 2016\n",
              "\n",
              "[5 rows x 7 columns]"
            ]
          },
          "metadata": {
            "tags": []
          },
          "execution_count": 28
        }
      ]
    },
    {
      "cell_type": "code",
      "metadata": {
        "id": "Rq2GRmnhQpwK",
        "colab_type": "code",
        "colab": {
          "base_uri": "https://localhost:8080/",
          "height": 151
        },
        "outputId": "4f03a59f-673d-4555-ac6f-784882861e44"
      },
      "source": [
        "df.dtypes"
      ],
      "execution_count": 29,
      "outputs": [
        {
          "output_type": "execute_result",
          "data": {
            "text/plain": [
              "d1    object\n",
              "d2    object\n",
              "d3    object\n",
              "d4    object\n",
              "d6     int64\n",
              "d7    object\n",
              "d8    object\n",
              "dtype: object"
            ]
          },
          "metadata": {
            "tags": []
          },
          "execution_count": 29
        }
      ]
    },
    {
      "cell_type": "code",
      "metadata": {
        "id": "uGERGpyIQxCB",
        "colab_type": "code",
        "colab": {}
      },
      "source": [
        "#udf for prob changing data type obj to data, and also for diff\n",
        "def date_diff(df):\n",
        "    datecol=[]\n",
        "    for col in df.columns:\n",
        "        if df[col].dtype == 'object':\n",
        "            if(pd.to_datetime(df[col],errors='coerce').isna().sum()< 0.8*len(df[col])):# number of NAs in a columns is less than 80 percent of the length of that column be handled\n",
        "              #astype(float, errors='coerce') , or pd. ... to_numeric(df. bad, errors='coerce') , \n",
        "            #bad values are replaced with np. NaN , also according to spec and reasonable\n",
        "                df[col]=pd.to_datetime(df[col],errors='coerce')#\n",
        "                datecol.append(col)\n",
        "    date_data = df[np.intersect1d(df.columns, datecol)]\n",
        "    for col1 in datecol:\n",
        "        for col2 in datecol:\n",
        "            if datecol.index(col2) > datecol.index(col1):\n",
        "                new_col_name=col1+'-'+ col2 #new columns\n",
        "                df[new_col_name]=date_data.apply(lambda x: 'NaT' if (pd.isnull((x[col1]-x[col2]))) else abs(x[col1]-x[col2]),axis=1)\n",
        "    return df"
      ],
      "execution_count": 30,
      "outputs": []
    },
    {
      "cell_type": "markdown",
      "metadata": {
        "id": "G7NUgdXfVpZT",
        "colab_type": "text"
      },
      "source": [
        ""
      ]
    },
    {
      "cell_type": "code",
      "metadata": {
        "id": "YH77OH2wRFXT",
        "colab_type": "code",
        "colab": {
          "base_uri": "https://localhost:8080/",
          "height": 195
        },
        "outputId": "7c55ac41-130a-417b-bfe7-ff341ea1968d"
      },
      "source": [
        "df=date_diff(df)\n",
        "df"
      ],
      "execution_count": 31,
      "outputs": [
        {
          "output_type": "execute_result",
          "data": {
            "text/html": [
              "<div>\n",
              "<style scoped>\n",
              "    .dataframe tbody tr th:only-of-type {\n",
              "        vertical-align: middle;\n",
              "    }\n",
              "\n",
              "    .dataframe tbody tr th {\n",
              "        vertical-align: top;\n",
              "    }\n",
              "\n",
              "    .dataframe thead th {\n",
              "        text-align: right;\n",
              "    }\n",
              "</style>\n",
              "<table border=\"1\" class=\"dataframe\">\n",
              "  <thead>\n",
              "    <tr style=\"text-align: right;\">\n",
              "      <th></th>\n",
              "      <th>d1</th>\n",
              "      <th>d2</th>\n",
              "      <th>d3</th>\n",
              "      <th>d4</th>\n",
              "      <th>d6</th>\n",
              "      <th>d7</th>\n",
              "      <th>d8</th>\n",
              "      <th>d1-d2</th>\n",
              "      <th>d1-d3</th>\n",
              "      <th>d1-d4</th>\n",
              "      <th>d1-d8</th>\n",
              "      <th>d2-d3</th>\n",
              "      <th>d2-d4</th>\n",
              "      <th>d2-d8</th>\n",
              "      <th>d3-d4</th>\n",
              "      <th>d3-d8</th>\n",
              "      <th>d4-d8</th>\n",
              "    </tr>\n",
              "  </thead>\n",
              "  <tbody>\n",
              "    <tr>\n",
              "      <th>0</th>\n",
              "      <td>2020-08-15</td>\n",
              "      <td>2020-10-10</td>\n",
              "      <td>2020-01-01</td>\n",
              "      <td>2020-12-25</td>\n",
              "      <td>1</td>\n",
              "      <td>a</td>\n",
              "      <td>2020-12-25</td>\n",
              "      <td>56 days</td>\n",
              "      <td>227 days</td>\n",
              "      <td>132 days</td>\n",
              "      <td>132 days</td>\n",
              "      <td>283 days</td>\n",
              "      <td>76 days</td>\n",
              "      <td>76 days</td>\n",
              "      <td>359 days</td>\n",
              "      <td>359 days</td>\n",
              "      <td>0 days</td>\n",
              "    </tr>\n",
              "    <tr>\n",
              "      <th>1</th>\n",
              "      <td>2020-07-15</td>\n",
              "      <td>2020-01-01</td>\n",
              "      <td>2019-06-15</td>\n",
              "      <td>2020-11-25</td>\n",
              "      <td>2</td>\n",
              "      <td>b</td>\n",
              "      <td>2020-11-25</td>\n",
              "      <td>196 days</td>\n",
              "      <td>396 days</td>\n",
              "      <td>133 days</td>\n",
              "      <td>133 days</td>\n",
              "      <td>200 days</td>\n",
              "      <td>329 days</td>\n",
              "      <td>329 days</td>\n",
              "      <td>529 days</td>\n",
              "      <td>529 days</td>\n",
              "      <td>0 days</td>\n",
              "    </tr>\n",
              "    <tr>\n",
              "      <th>2</th>\n",
              "      <td>2020-10-05</td>\n",
              "      <td>2020-02-02</td>\n",
              "      <td>2018-07-03</td>\n",
              "      <td>2020-02-20</td>\n",
              "      <td>300</td>\n",
              "      <td>c</td>\n",
              "      <td>2020-05-25</td>\n",
              "      <td>246 days</td>\n",
              "      <td>825 days</td>\n",
              "      <td>228 days</td>\n",
              "      <td>133 days</td>\n",
              "      <td>579 days</td>\n",
              "      <td>18 days</td>\n",
              "      <td>113 days</td>\n",
              "      <td>597 days</td>\n",
              "      <td>692 days</td>\n",
              "      <td>95 days</td>\n",
              "    </tr>\n",
              "    <tr>\n",
              "      <th>3</th>\n",
              "      <td>NaT</td>\n",
              "      <td>2020-10-15</td>\n",
              "      <td>2016-12-31</td>\n",
              "      <td>2020-03-25</td>\n",
              "      <td>400</td>\n",
              "      <td>e</td>\n",
              "      <td>2020-03-25</td>\n",
              "      <td>NaT</td>\n",
              "      <td>NaT</td>\n",
              "      <td>NaT</td>\n",
              "      <td>NaT</td>\n",
              "      <td>1384 days</td>\n",
              "      <td>204 days</td>\n",
              "      <td>204 days</td>\n",
              "      <td>1180 days</td>\n",
              "      <td>1180 days</td>\n",
              "      <td>0 days</td>\n",
              "    </tr>\n",
              "    <tr>\n",
              "      <th>4</th>\n",
              "      <td>NaT</td>\n",
              "      <td>2020-10-10</td>\n",
              "      <td>2020-02-21</td>\n",
              "      <td>2020-10-25</td>\n",
              "      <td>5</td>\n",
              "      <td>f</td>\n",
              "      <td>2016-12-31</td>\n",
              "      <td>NaT</td>\n",
              "      <td>NaT</td>\n",
              "      <td>NaT</td>\n",
              "      <td>NaT</td>\n",
              "      <td>232 days</td>\n",
              "      <td>15 days</td>\n",
              "      <td>1379 days</td>\n",
              "      <td>247 days</td>\n",
              "      <td>1147 days</td>\n",
              "      <td>1394 days</td>\n",
              "    </tr>\n",
              "  </tbody>\n",
              "</table>\n",
              "</div>"
            ],
            "text/plain": [
              "          d1         d2         d3  ...     d3-d4     d3-d8     d4-d8\n",
              "0 2020-08-15 2020-10-10 2020-01-01  ...  359 days  359 days    0 days\n",
              "1 2020-07-15 2020-01-01 2019-06-15  ...  529 days  529 days    0 days\n",
              "2 2020-10-05 2020-02-02 2018-07-03  ...  597 days  692 days   95 days\n",
              "3        NaT 2020-10-15 2016-12-31  ... 1180 days 1180 days    0 days\n",
              "4        NaT 2020-10-10 2020-02-21  ...  247 days 1147 days 1394 days\n",
              "\n",
              "[5 rows x 17 columns]"
            ]
          },
          "metadata": {
            "tags": []
          },
          "execution_count": 31
        }
      ]
    },
    {
      "cell_type": "markdown",
      "metadata": {
        "id": "Pnts1cb5Vnef",
        "colab_type": "text"
      },
      "source": [
        ""
      ]
    },
    {
      "cell_type": "code",
      "metadata": {
        "id": "U3vIS18ORQaf",
        "colab_type": "code",
        "colab": {
          "base_uri": "https://localhost:8080/",
          "height": 319
        },
        "outputId": "bf93a55d-986a-41f3-a298-8f41955fc037"
      },
      "source": [
        "df.dtypes"
      ],
      "execution_count": 32,
      "outputs": [
        {
          "output_type": "execute_result",
          "data": {
            "text/plain": [
              "d1        datetime64[ns]\n",
              "d2        datetime64[ns]\n",
              "d3        datetime64[ns]\n",
              "d4        datetime64[ns]\n",
              "d6                 int64\n",
              "d7                object\n",
              "d8        datetime64[ns]\n",
              "d1-d2    timedelta64[ns]\n",
              "d1-d3    timedelta64[ns]\n",
              "d1-d4    timedelta64[ns]\n",
              "d1-d8    timedelta64[ns]\n",
              "d2-d3    timedelta64[ns]\n",
              "d2-d4    timedelta64[ns]\n",
              "d2-d8    timedelta64[ns]\n",
              "d3-d4    timedelta64[ns]\n",
              "d3-d8    timedelta64[ns]\n",
              "d4-d8    timedelta64[ns]\n",
              "dtype: object"
            ]
          },
          "metadata": {
            "tags": []
          },
          "execution_count": 32
        }
      ]
    }
  ]
}